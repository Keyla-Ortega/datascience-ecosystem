{
 "cells": [
  {
   "cell_type": "code",
   "execution_count": 2,
   "id": "8b3d1665-2bad-4bb3-b15a-412e79343f59",
   "metadata": {},
   "outputs": [
    {
     "data": {
      "text/plain": [
       "3.3333333333333335"
      ]
     },
     "execution_count": 2,
     "metadata": {},
     "output_type": "execute_result"
    }
   ],
   "source": [
    "# Data Science Tools and Ecosystem\n",
    "\n",
    "\"\"\"\n",
    "En este cuaderno, se resumen las herramientas y ecosistemas de ciencia de datos.\n",
    "\"\"\"\n",
    "\n",
    "# Objetivos:\n",
    "# - Listar lenguajes populares para Ciencia de Datos\n",
    "# - Identificar bibliotecas comunes de Ciencia de Datos\n",
    "# - Usar Markdown para estructurar un cuaderno\n",
    "# - Crear expresiones aritméticas simples en Python\n",
    "# - Convertir unidades como minutos a horas\n",
    "\n",
    "# Algunos de los lenguajes populares que utilizan los científicos de datos son:\n",
    "# 1. Python\n",
    "# 2. R\n",
    "# 3. SQL\n",
    "# 4. Java\n",
    "# 5. Julia\n",
    "\n",
    "# Algunas de las bibliotecas comúnmente utilizadas por los científicos de datos incluyen:\n",
    "# 1. Pandas\n",
    "# 2. NumPy\n",
    "# 3. Matplotlib\n",
    "# 4. Scikit-learn\n",
    "# 5. TensorFlow\n",
    "\n",
    "# Herramientas de Ciencia de Datos\n",
    "# | Herramientas de Ciencia de Datos |\n",
    "# |----------------------------------|\n",
    "# | Jupyter Notebook                 |\n",
    "# | RStudio                          |\n",
    "# | Apache Zeppelin                  |\n",
    "\n",
    "### A continuación, se presentan algunos ejemplos de evaluación de expresiones aritméticas en Python.\n",
    "\n",
    "# Esta es una expresión aritmética simple para multiplicar y luego sumar enteros\n",
    "(3 * 4) + 5\n",
    "\n",
    "# Esto convertirá 200 minutos a horas dividiendo por 60\n",
    "200 / 60\n",
    "\n",
    "## Autor  \n",
    "#Keyla Fernanda Ortega Tapia\n"
   ]
  },
  {
   "cell_type": "code",
   "execution_count": null,
   "id": "9b23cc9f-9215-4699-bde6-f23d4204daee",
   "metadata": {},
   "outputs": [],
   "source": []
  }
 ],
 "metadata": {
  "kernelspec": {
   "display_name": "Python 3 (ipykernel)",
   "language": "python",
   "name": "python3"
  },
  "language_info": {
   "codemirror_mode": {
    "name": "ipython",
    "version": 3
   },
   "file_extension": ".py",
   "mimetype": "text/x-python",
   "name": "python",
   "nbconvert_exporter": "python",
   "pygments_lexer": "ipython3",
   "version": "3.12.9"
  }
 },
 "nbformat": 4,
 "nbformat_minor": 5
}
